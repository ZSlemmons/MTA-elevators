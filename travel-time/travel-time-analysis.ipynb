{
 "cells": [
  {
   "cell_type": "code",
   "execution_count": 1,
   "id": "8d8177a3-ffd4-4009-9f9e-4f3f7e49fc97",
   "metadata": {},
   "outputs": [],
   "source": [
    "#This notebook will contain calculations and analysis for the travel time of an average subway rider vs. an handicapped rider"
   ]
  },
  {
   "cell_type": "code",
   "execution_count": 2,
   "id": "872ab50f-334b-4069-a9f7-cfb88b3ee2b0",
   "metadata": {},
   "outputs": [],
   "source": [
    "#First I have two lists of random NYC addresses\n",
    "import pandas as pd\n",
    "import numpy as np\n",
    "\n",
    "A_addresses = pd.read_csv('NYC_addresses_1.csv')\n",
    "B_addresses = pd.read_csv('NYC_addresses_2.csv')"
   ]
  },
  {
   "cell_type": "code",
   "execution_count": 4,
   "id": "fb92d6db-2008-4219-b833-e17d4697947c",
   "metadata": {},
   "outputs": [
    {
     "data": {
      "text/html": [
       "<div>\n",
       "<style scoped>\n",
       "    .dataframe tbody tr th:only-of-type {\n",
       "        vertical-align: middle;\n",
       "    }\n",
       "\n",
       "    .dataframe tbody tr th {\n",
       "        vertical-align: top;\n",
       "    }\n",
       "\n",
       "    .dataframe thead th {\n",
       "        text-align: right;\n",
       "    }\n",
       "</style>\n",
       "<table border=\"1\" class=\"dataframe\">\n",
       "  <thead>\n",
       "    <tr style=\"text-align: right;\">\n",
       "      <th></th>\n",
       "      <th>address_full</th>\n",
       "      <th>number</th>\n",
       "      <th>street</th>\n",
       "      <th>city</th>\n",
       "      <th>state</th>\n",
       "      <th>zip</th>\n",
       "      <th>longitude</th>\n",
       "      <th>latitude</th>\n",
       "      <th>statefp</th>\n",
       "      <th>countyfp</th>\n",
       "      <th>tractce</th>\n",
       "      <th>blkgrpce</th>\n",
       "    </tr>\n",
       "  </thead>\n",
       "  <tbody>\n",
       "    <tr>\n",
       "      <th>0</th>\n",
       "      <td>133-20 85 ST NEW YORK, NY 11417</td>\n",
       "      <td>133-20</td>\n",
       "      <td>85 ST</td>\n",
       "      <td>NEW YORK</td>\n",
       "      <td>NY</td>\n",
       "      <td>11417</td>\n",
       "      <td>-73.851338</td>\n",
       "      <td>40.673495</td>\n",
       "      <td>36</td>\n",
       "      <td>81</td>\n",
       "      <td>5800</td>\n",
       "      <td>3</td>\n",
       "    </tr>\n",
       "    <tr>\n",
       "      <th>1</th>\n",
       "      <td>292 MONTAUK AVE NEW YORK, NY 11208</td>\n",
       "      <td>292</td>\n",
       "      <td>MONTAUK AVE</td>\n",
       "      <td>NEW YORK</td>\n",
       "      <td>NY</td>\n",
       "      <td>11208</td>\n",
       "      <td>-73.877478</td>\n",
       "      <td>40.671479</td>\n",
       "      <td>36</td>\n",
       "      <td>47</td>\n",
       "      <td>119400</td>\n",
       "      <td>3</td>\n",
       "    </tr>\n",
       "    <tr>\n",
       "      <th>2</th>\n",
       "      <td>6 ROMER RD NEW YORK, NY 10304</td>\n",
       "      <td>6</td>\n",
       "      <td>ROMER RD</td>\n",
       "      <td>NEW YORK</td>\n",
       "      <td>NY</td>\n",
       "      <td>10304</td>\n",
       "      <td>-74.103098</td>\n",
       "      <td>40.593125</td>\n",
       "      <td>36</td>\n",
       "      <td>85</td>\n",
       "      <td>17701</td>\n",
       "      <td>3</td>\n",
       "    </tr>\n",
       "    <tr>\n",
       "      <th>3</th>\n",
       "      <td>164-10 104 ST NEW YORK, NY 11414</td>\n",
       "      <td>164-10</td>\n",
       "      <td>104 ST</td>\n",
       "      <td>NEW YORK</td>\n",
       "      <td>NY</td>\n",
       "      <td>11414</td>\n",
       "      <td>-73.827662</td>\n",
       "      <td>40.651995</td>\n",
       "      <td>36</td>\n",
       "      <td>81</td>\n",
       "      <td>88400</td>\n",
       "      <td>6</td>\n",
       "    </tr>\n",
       "    <tr>\n",
       "      <th>4</th>\n",
       "      <td>1429 SHORE PKWY NEW YORK, NY 11214</td>\n",
       "      <td>1429</td>\n",
       "      <td>SHORE PKWY</td>\n",
       "      <td>NEW YORK</td>\n",
       "      <td>NY</td>\n",
       "      <td>11214</td>\n",
       "      <td>-74.005699</td>\n",
       "      <td>40.598670</td>\n",
       "      <td>36</td>\n",
       "      <td>47</td>\n",
       "      <td>28200</td>\n",
       "      <td>1</td>\n",
       "    </tr>\n",
       "  </tbody>\n",
       "</table>\n",
       "</div>"
      ],
      "text/plain": [
       "                          address_full  number       street      city state  \\\n",
       "0     133-20 85 ST NEW YORK, NY 11417   133-20        85 ST  NEW YORK    NY   \n",
       "1  292 MONTAUK AVE NEW YORK, NY 11208      292  MONTAUK AVE  NEW YORK    NY   \n",
       "2       6 ROMER RD NEW YORK, NY 10304        6     ROMER RD  NEW YORK    NY   \n",
       "3    164-10 104 ST NEW YORK, NY 11414   164-10       104 ST  NEW YORK    NY   \n",
       "4  1429 SHORE PKWY NEW YORK, NY 11214     1429   SHORE PKWY  NEW YORK    NY   \n",
       "\n",
       "     zip  longitude   latitude  statefp  countyfp  tractce  blkgrpce  \n",
       "0  11417 -73.851338  40.673495       36        81     5800         3  \n",
       "1  11208 -73.877478  40.671479       36        47   119400         3  \n",
       "2  10304 -74.103098  40.593125       36        85    17701         3  \n",
       "3  11414 -73.827662  40.651995       36        81    88400         6  \n",
       "4  11214 -74.005699  40.598670       36        47    28200         1  "
      ]
     },
     "execution_count": 4,
     "metadata": {},
     "output_type": "execute_result"
    }
   ],
   "source": [
    "A_addresses.head()"
   ]
  },
  {
   "cell_type": "code",
   "execution_count": 5,
   "id": "913a7c87-05e9-4fbc-bb1b-44084ab12c2b",
   "metadata": {},
   "outputs": [
    {
     "data": {
      "text/html": [
       "<div>\n",
       "<style scoped>\n",
       "    .dataframe tbody tr th:only-of-type {\n",
       "        vertical-align: middle;\n",
       "    }\n",
       "\n",
       "    .dataframe tbody tr th {\n",
       "        vertical-align: top;\n",
       "    }\n",
       "\n",
       "    .dataframe thead th {\n",
       "        text-align: right;\n",
       "    }\n",
       "</style>\n",
       "<table border=\"1\" class=\"dataframe\">\n",
       "  <thead>\n",
       "    <tr style=\"text-align: right;\">\n",
       "      <th></th>\n",
       "      <th>address_full</th>\n",
       "      <th>number</th>\n",
       "      <th>street</th>\n",
       "      <th>city</th>\n",
       "      <th>state</th>\n",
       "      <th>zip</th>\n",
       "      <th>longitude</th>\n",
       "      <th>latitude</th>\n",
       "      <th>statefp</th>\n",
       "      <th>countyfp</th>\n",
       "      <th>tractce</th>\n",
       "      <th>blkgrpce</th>\n",
       "    </tr>\n",
       "  </thead>\n",
       "  <tbody>\n",
       "    <tr>\n",
       "      <th>0</th>\n",
       "      <td>3236 BOSTON RD NEW YORK, NY 10469</td>\n",
       "      <td>3236</td>\n",
       "      <td>BOSTON RD</td>\n",
       "      <td>NEW YORK</td>\n",
       "      <td>NY</td>\n",
       "      <td>10469</td>\n",
       "      <td>-73.854792</td>\n",
       "      <td>40.872162</td>\n",
       "      <td>36</td>\n",
       "      <td>5</td>\n",
       "      <td>34800</td>\n",
       "      <td>1</td>\n",
       "    </tr>\n",
       "    <tr>\n",
       "      <th>1</th>\n",
       "      <td>970 AMSTERDAM AVE NEW YORK, NY 10025</td>\n",
       "      <td>970</td>\n",
       "      <td>AMSTERDAM AVE</td>\n",
       "      <td>NEW YORK</td>\n",
       "      <td>NY</td>\n",
       "      <td>10025</td>\n",
       "      <td>-73.965107</td>\n",
       "      <td>40.801581</td>\n",
       "      <td>36</td>\n",
       "      <td>61</td>\n",
       "      <td>19500</td>\n",
       "      <td>4</td>\n",
       "    </tr>\n",
       "    <tr>\n",
       "      <th>2</th>\n",
       "      <td>1623 DECATUR ST NEW YORK, NY 11385</td>\n",
       "      <td>1623</td>\n",
       "      <td>DECATUR ST</td>\n",
       "      <td>NEW YORK</td>\n",
       "      <td>NY</td>\n",
       "      <td>11385</td>\n",
       "      <td>-73.901360</td>\n",
       "      <td>40.694898</td>\n",
       "      <td>36</td>\n",
       "      <td>81</td>\n",
       "      <td>55900</td>\n",
       "      <td>1</td>\n",
       "    </tr>\n",
       "    <tr>\n",
       "      <th>3</th>\n",
       "      <td>12-06 151 PL NEW YORK, NY 11357</td>\n",
       "      <td>12-06</td>\n",
       "      <td>151 PL</td>\n",
       "      <td>NEW YORK</td>\n",
       "      <td>NY</td>\n",
       "      <td>11357</td>\n",
       "      <td>-73.811475</td>\n",
       "      <td>40.791270</td>\n",
       "      <td>36</td>\n",
       "      <td>81</td>\n",
       "      <td>98700</td>\n",
       "      <td>2</td>\n",
       "    </tr>\n",
       "    <tr>\n",
       "      <th>4</th>\n",
       "      <td>135 BCH 56 PL NEW YORK, NY 11692</td>\n",
       "      <td>135</td>\n",
       "      <td>BCH 56 PL</td>\n",
       "      <td>NEW YORK</td>\n",
       "      <td>NY</td>\n",
       "      <td>11692</td>\n",
       "      <td>-73.787031</td>\n",
       "      <td>40.590884</td>\n",
       "      <td>36</td>\n",
       "      <td>81</td>\n",
       "      <td>97202</td>\n",
       "      <td>1</td>\n",
       "    </tr>\n",
       "  </tbody>\n",
       "</table>\n",
       "</div>"
      ],
      "text/plain": [
       "                            address_full number         street      city  \\\n",
       "0     3236 BOSTON RD NEW YORK, NY 10469    3236      BOSTON RD  NEW YORK   \n",
       "1  970 AMSTERDAM AVE NEW YORK, NY 10025     970  AMSTERDAM AVE  NEW YORK   \n",
       "2    1623 DECATUR ST NEW YORK, NY 11385    1623     DECATUR ST  NEW YORK   \n",
       "3       12-06 151 PL NEW YORK, NY 11357   12-06         151 PL  NEW YORK   \n",
       "4      135 BCH 56 PL NEW YORK, NY 11692     135      BCH 56 PL  NEW YORK   \n",
       "\n",
       "  state    zip  longitude   latitude  statefp  countyfp  tractce  blkgrpce  \n",
       "0    NY  10469 -73.854792  40.872162       36         5    34800         1  \n",
       "1    NY  10025 -73.965107  40.801581       36        61    19500         4  \n",
       "2    NY  11385 -73.901360  40.694898       36        81    55900         1  \n",
       "3    NY  11357 -73.811475  40.791270       36        81    98700         2  \n",
       "4    NY  11692 -73.787031  40.590884       36        81    97202         1  "
      ]
     },
     "execution_count": 5,
     "metadata": {},
     "output_type": "execute_result"
    }
   ],
   "source": [
    "B_addresses.head()"
   ]
  },
  {
   "cell_type": "code",
   "execution_count": 7,
   "id": "10909cc8-8c82-450e-b0e5-a397ba28bad9",
   "metadata": {},
   "outputs": [
    {
     "data": {
      "text/plain": [
       "['133-20 85 ST NEW YORK, NY 11417 ',\n",
       " '292 MONTAUK AVE NEW YORK, NY 11208 ',\n",
       " '6 ROMER RD NEW YORK, NY 10304 ',\n",
       " '164-10 104 ST NEW YORK, NY 11414 ',\n",
       " '1429 SHORE PKWY NEW YORK, NY 11214 ',\n",
       " '196 22 ST NEW YORK, NY 11232 ',\n",
       " '715 SAGAMORE ST NEW YORK, NY 10462 ',\n",
       " '4730 RICHARDSON AVE NEW YORK, NY 10470 ',\n",
       " '94-17 84 ST NEW YORK, NY 11416 ',\n",
       " '2732 MILL AVE NEW YORK, NY 11234 ']"
      ]
     },
     "execution_count": 7,
     "metadata": {},
     "output_type": "execute_result"
    }
   ],
   "source": [
    "A_street_addresses = A_addresses['address_full'].tolist()\n",
    "A_street_addresses"
   ]
  },
  {
   "cell_type": "code",
   "execution_count": 8,
   "id": "a893c045-6d08-4de9-a72c-084c3d8280ee",
   "metadata": {},
   "outputs": [
    {
     "data": {
      "text/plain": [
       "['3236 BOSTON RD NEW YORK, NY 10469 ',\n",
       " '970 AMSTERDAM AVE NEW YORK, NY 10025 ',\n",
       " '1623 DECATUR ST NEW YORK, NY 11385 ',\n",
       " '12-06 151 PL NEW YORK, NY 11357 ',\n",
       " '135 BCH 56 PL NEW YORK, NY 11692 ',\n",
       " '196 ROSEDALE AVE NEW YORK, NY 10312 ',\n",
       " '519 MADISON AVE NEW YORK, NY 10022 ',\n",
       " '197-26 CARPENTER AVE NEW YORK, NY 11423 ',\n",
       " '63-62 77 ST NEW YORK, NY 11379 ',\n",
       " '120-36 143 ST NEW YORK, NY 11436 ']"
      ]
     },
     "execution_count": 8,
     "metadata": {},
     "output_type": "execute_result"
    }
   ],
   "source": [
    "B_street_addresses = B_addresses['address_full'].tolist()\n",
    "B_street_addresses"
   ]
  },
  {
   "cell_type": "code",
   "execution_count": 11,
   "id": "71ca0c8c-6374-4ac0-a369-2178a7ad19fb",
   "metadata": {},
   "outputs": [],
   "source": [
    "#That was the easy part. Now, gotta build an automated browser to run imput these addresses. \n",
    "import os\n",
    "import random\n",
    "import time\n",
    "\n",
    "from playwright.async_api import async_playwright, expect, Keyboard"
   ]
  },
  {
   "cell_type": "code",
   "execution_count": 12,
   "id": "e2e7ca59-55cb-4d0e-841e-4d54acfe4fb7",
   "metadata": {},
   "outputs": [],
   "source": [
    "os.makedirs('data/', exist_ok=True)"
   ]
  },
  {
   "cell_type": "code",
   "execution_count": 13,
   "id": "ca797096-c0d1-4741-9af2-bce910c3776b",
   "metadata": {},
   "outputs": [],
   "source": [
    "user_agent = 'Mozilla/5.0 (Macintosh; Intel Mac OS X 10_15_7) AppleWebKit/537.36 (KHTML, like Gecko) Chrome/138.0.0.0 Safari/537.36'"
   ]
  },
  {
   "cell_type": "code",
   "execution_count": 66,
   "id": "e4214b4a-0e62-493a-91b3-7a9aec9cda33",
   "metadata": {},
   "outputs": [],
   "source": [
    "async def open_browser(headless=False, user_agent=user_agent):\n",
    "    \"\"\"\n",
    "    Starts the automated browser and opens a new window\n",
    "    \"\"\"\n",
    "    # Start playwright\n",
    "    playwright = await async_playwright().start()\n",
    "\n",
    "    # Open firefox browser, can use chromium (chrome) or others\n",
    "    browser = await playwright.chromium.launch(headless=False)\n",
    "\n",
    "    # set a user agent\n",
    "    context = await browser.new_context(user_agent=user_agent)\n",
    "  \n",
    "    # Create a new browser window\n",
    "    page = await browser.new_page()\n",
    "\n",
    "    return browser, page"
   ]
  },
  {
   "cell_type": "code",
   "execution_count": 67,
   "id": "e1e25389-4325-4557-ad6f-9af18ba59592",
   "metadata": {},
   "outputs": [],
   "source": [
    "driver, page = await open_browser()"
   ]
  },
  {
   "cell_type": "code",
   "execution_count": 68,
   "id": "ffea13fb-f470-4854-a9b8-a8896f0d4d84",
   "metadata": {},
   "outputs": [
    {
     "data": {
      "text/plain": [
       "<Response url='https://www.mta.info/' request=<Request url='https://www.mta.info/' method='GET'>>"
      ]
     },
     "execution_count": 68,
     "metadata": {},
     "output_type": "execute_result"
    }
   ],
   "source": [
    "url = 'https://www.mta.info/'\n",
    "await page.goto(url)"
   ]
  },
  {
   "cell_type": "code",
   "execution_count": 69,
   "id": "cd3855e0-e67a-42b0-b555-ec1d6c686dec",
   "metadata": {},
   "outputs": [
    {
     "data": {
      "text/plain": [
       "<Locator frame=<Frame name= url='https://www.mta.info/'> selector='//*[@id=\"edit-origin\"]'>"
      ]
     },
     "execution_count": 69,
     "metadata": {},
     "output_type": "execute_result"
    }
   ],
   "source": [
    "from_search = page.locator('//*[@id=\"edit-origin\"]')\n",
    "from_search"
   ]
  },
  {
   "cell_type": "code",
   "execution_count": 70,
   "id": "bce5e557-975e-4bf4-b7c4-6a235b93263c",
   "metadata": {},
   "outputs": [],
   "source": [
    "await from_search.fill('853 Riverside Dr, New York, NY, USA')"
   ]
  },
  {
   "cell_type": "code",
   "execution_count": 71,
   "id": "0fca0aed-5988-4200-a643-3bf72761ea9e",
   "metadata": {},
   "outputs": [],
   "source": [
    "await page.mouse.click(200,450)"
   ]
  },
  {
   "cell_type": "code",
   "execution_count": 65,
   "id": "bb13333d-e36c-4477-b05a-8d7833621462",
   "metadata": {},
   "outputs": [
    {
     "data": {
      "text/plain": [
       "<Locator frame=<Frame name= url='https://www.mta.info/'> selector='//*[@id=\"edit-dest\"]'>"
      ]
     },
     "execution_count": 65,
     "metadata": {},
     "output_type": "execute_result"
    }
   ],
   "source": [
    "to_search = page.locator('//*[@id=\"edit-dest\"]')\n",
    "to_search"
   ]
  },
  {
   "cell_type": "code",
   "execution_count": 55,
   "id": "37d97c13-b5b2-440a-8cbe-e6d2c82e12e6",
   "metadata": {},
   "outputs": [],
   "source": [
    "await to_search.fill('75 9th Ave, New York, NY, USA')"
   ]
  },
  {
   "cell_type": "code",
   "execution_count": 56,
   "id": "ddc9dca7-2b47-4edb-b386-b6a265ec0f27",
   "metadata": {},
   "outputs": [],
   "source": [
    "await page.mouse.click(0,5)"
   ]
  },
  {
   "cell_type": "code",
   "execution_count": 57,
   "id": "216677a1-f4dd-493e-86d0-6c64e711302d",
   "metadata": {},
   "outputs": [
    {
     "data": {
      "text/plain": [
       "<Locator frame=<Frame name= url='https://www.mta.info/'> selector='//*[@id=\"edit-submit\"]'>"
      ]
     },
     "execution_count": 57,
     "metadata": {},
     "output_type": "execute_result"
    }
   ],
   "source": [
    "submit = page.locator('//*[@id=\"edit-submit\"]')\n",
    "submit"
   ]
  },
  {
   "cell_type": "code",
   "execution_count": 58,
   "id": "8ebfdcfd-a984-4866-a8ef-c4ee7fb04722",
   "metadata": {},
   "outputs": [],
   "source": [
    "await submit.click()"
   ]
  },
  {
   "cell_type": "code",
   "execution_count": null,
   "id": "ffac8729-1a62-45be-ac56-de62e9bc35ff",
   "metadata": {},
   "outputs": [],
   "source": [
    "from dotenv import load_dotenv\n",
    "load_dotenv()\n",
    "api_key = os.getenv('api_key')"
   ]
  }
 ],
 "metadata": {
  "kernelspec": {
   "display_name": "Python 3 (ipykernel)",
   "language": "python",
   "name": "python3"
  },
  "language_info": {
   "codemirror_mode": {
    "name": "ipython",
    "version": 3
   },
   "file_extension": ".py",
   "mimetype": "text/x-python",
   "name": "python",
   "nbconvert_exporter": "python",
   "pygments_lexer": "ipython3",
   "version": "3.12.0"
  }
 },
 "nbformat": 4,
 "nbformat_minor": 5
}
