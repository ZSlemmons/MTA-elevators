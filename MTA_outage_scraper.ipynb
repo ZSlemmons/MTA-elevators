{
 "cells": [
  {
   "cell_type": "code",
   "execution_count": null,
   "id": "d2653d37-5c4a-454d-8276-235bb3907f1c",
   "metadata": {},
   "outputs": [],
   "source": [
    "#OK, what do I actually need from this page? \n",
    " #- Any elevator that is not working\n",
    " #- The station ID of that elevator\n",
    " #-time stamp"
   ]
  },
  {
   "cell_type": "code",
   "execution_count": 146,
   "id": "09d81611-6ba7-4568-b912-0d680bf2da25",
   "metadata": {},
   "outputs": [],
   "source": [
    "from playwright.sync_api import sync_playwright\n",
    "import os\n",
    "import random\n",
    "import time"
   ]
  },
  {
   "cell_type": "code",
   "execution_count": 147,
   "id": "6fe16847-c5ff-4309-9b7a-dfb7d426862b",
   "metadata": {},
   "outputs": [],
   "source": [
    "# Start the browser\n",
    "playwright = await async_playwright().start()\n",
    "browser = await playwright.chromium.launch(headless=False)"
   ]
  },
  {
   "cell_type": "code",
   "execution_count": 148,
   "id": "c9ae114f-4dee-4112-bd7d-b7cb107fc583",
   "metadata": {},
   "outputs": [],
   "source": [
    "page = await browser.new_page()"
   ]
  },
  {
   "cell_type": "code",
   "execution_count": 149,
   "id": "7cce2d9a-70bb-439a-b24f-6ce5293beb25",
   "metadata": {},
   "outputs": [
    {
     "data": {
      "text/plain": [
       "<Response url='https://www.mta.info/elevator-escalator-status' request=<Request url='https://www.mta.info/elevator-escalator-status' method='GET'>>"
      ]
     },
     "execution_count": 149,
     "metadata": {},
     "output_type": "execute_result"
    }
   ],
   "source": [
    "url = 'https://www.mta.info/elevator-escalator-status'\n",
    "await page.goto(url)"
   ]
  },
  {
   "cell_type": "code",
   "execution_count": 150,
   "id": "257e37a7-2213-4494-ad04-0f7913b20d4f",
   "metadata": {},
   "outputs": [
    {
     "data": {
      "text/plain": [
       "<Locator frame=<Frame name= url='https://www.mta.info/elevator-escalator-status'> selector='//div[@id=\"subway-results\"]'>"
      ]
     },
     "execution_count": 150,
     "metadata": {},
     "output_type": "execute_result"
    }
   ],
   "source": [
    "results = page.locator('//div[@id=\"subway-results\"]')\n",
    "results"
   ]
  },
  {
   "cell_type": "code",
   "execution_count": 151,
   "id": "6b43ef4d-1e99-4ebd-bea0-d07883859441",
   "metadata": {},
   "outputs": [
    {
     "data": {
      "text/plain": [
       "0"
      ]
     },
     "execution_count": 151,
     "metadata": {},
     "output_type": "execute_result"
    }
   ],
   "source": [
    "station_xpath = '//*[@id=\"subway-results\"]/div[2]/div/div/div/div/div/div/div/ul'\n",
    "stations = await page.locator(station_xpath).all()\n",
    "len(stations)"
   ]
  },
  {
   "cell_type": "code",
   "execution_count": 152,
   "id": "61335447-424a-4af9-a653-d1dbb3656e99",
   "metadata": {},
   "outputs": [
    {
     "data": {
      "text/plain": [
       "0"
      ]
     },
     "execution_count": 152,
     "metadata": {},
     "output_type": "execute_result"
    }
   ],
   "source": [
    "station_name_xpath = '//*[@id=\"subway-results\"]/div[2]/div/div/div/div/div/div/div/ul/li[1]/div[1]'\n",
    "station_names = await page.locator(station_name_xpath).all()\n",
    "len(station_names)"
   ]
  },
  {
   "cell_type": "code",
   "execution_count": null,
   "id": "97f494d1-f876-4d79-95fd-ee42a6d78678",
   "metadata": {},
   "outputs": [],
   "source": [
    "#this doesn't work\n",
    "for station in station_names:\n",
    "    name = await station.locator(station_name_xpath).text_content()\n",
    "    print(name)"
   ]
  },
  {
   "cell_type": "code",
   "execution_count": null,
   "id": "c046decc-f371-4e93-96a4-0061c35dd4d7",
   "metadata": {},
   "outputs": [],
   "source": []
  }
 ],
 "metadata": {
  "kernelspec": {
   "display_name": "Python 3 (ipykernel)",
   "language": "python",
   "name": "python3"
  },
  "language_info": {
   "codemirror_mode": {
    "name": "ipython",
    "version": 3
   },
   "file_extension": ".py",
   "mimetype": "text/x-python",
   "name": "python",
   "nbconvert_exporter": "python",
   "pygments_lexer": "ipython3",
   "version": "3.12.0"
  }
 },
 "nbformat": 4,
 "nbformat_minor": 5
}
